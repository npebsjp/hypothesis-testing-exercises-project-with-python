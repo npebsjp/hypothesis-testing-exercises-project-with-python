{
 "cells": [
  {
   "cell_type": "markdown",
   "id": "d9d036c6",
   "metadata": {},
   "source": [
    "# Hypothesis testing problems"
   ]
  },
  {
   "cell_type": "markdown",
   "id": "d157c4db",
   "metadata": {},
   "source": [
    "## Exercise 1\n",
    "\n",
    "You are a nutritionist researching two different types of diets to see if there is a significant difference in weight loss after one month. You choose two random groups of people; one group follows the first diet, and the other follows the second. At the end of the month, you record the weight loss (in kg) for each person:\n",
    "\n",
    "| Diet 1 | Diet 2 |\n",
    "|:-------|:-------|\n",
    "| 2.0 | 3.0 |\n",
    "| 2.5 | 3.2 |\n",
    "| 3.0 | 3.1 |\n",
    "| 2.8 | 2.9 |\n",
    "| 2.3 | 2.8 |\n",
    "| 2.7 | 3.0 |\n",
    "| 2.5 | 3.2 |\n",
    "\n",
    "With these data, it seeks to answer the following question: Is there a significant difference in average weight loss between people who followed the first diet and those who followed the second diet?\n",
    "\n",
    "To draw conclusions, follow the points below:\n",
    "\n",
    "- State the hypothesis: null and alternative hypothesis.\n",
    "- Perform the test to test the hypothesis. You can use a Student's t-test.\n",
    "- Analyze the conclusions."
   ]
  },
  {
   "cell_type": "code",
   "execution_count": 1,
   "id": "8e0f3cf0",
   "metadata": {},
   "outputs": [
    {
     "name": "stdout",
     "output_type": "stream",
     "text": [
      "2.542857142857143 3.0285714285714285\n",
      "0.306394436993246 0.13850513878332382\n",
      "0.12708895899543077\n",
      "T-statistic: -3.5383\n",
      "P-value: 0.0041\n",
      "Reject the null hypothesis. There is a significante weigth loss difference between the two diets\n"
     ]
    }
   ],
   "source": [
    "import numpy as np \n",
    "from scipy import stats\n",
    "\n",
    "diet_1 =[2.0,2.5,3.0,2.8,2.3,2.7,2.5]\n",
    "diet_2= [3.0,3.2, 3.1, 2.9,2.8,3.0,3.2]\n",
    "\n",
    "mean_1 = np.mean(diet_1)\n",
    "mean_2 = np.mean(diet_2)\n",
    "print(mean_1, mean_2)\n",
    "n_1 = len(diet_1)\n",
    "n_2 = len(diet_2) \n",
    "\n",
    "std_1 = np.std(diet_1)\n",
    "std_2 = np.std(diet_2)\n",
    "print(std_1, std_2)\n",
    "\n",
    "#standart error\n",
    "standart_error = np.sqrt(((std_1**2)/n_1) + ((std_2**2) /n_2))\n",
    "print(standart_error)\n",
    "\n",
    "t_statistic, p_value = stats.ttest_ind(diet_1, diet_2)\n",
    "print(f'T-statistic: {t_statistic: .4f}')\n",
    "print(f'P-value: {p_value:.4f}')\n",
    "\n",
    "alpha = 0.05\n",
    "if p_value < alpha:\n",
    "    print('Reject the null hypothesis. There is a significante weigth loss difference between the two diets')\n",
    "else:\n",
    "    print(' Fail to reject the null hypotesis. There is no significant weigth loss difference between the 2 diets.')"
   ]
  },
  {
   "cell_type": "markdown",
   "id": "f432e18e",
   "metadata": {},
   "source": [
    "## ANOVA\n",
    "\n",
    "**ANOVA** (*Analysis of Variance*) is a statistical technique used to compare the measures of two or more groups. The idea behind ANOVA is to decompose the total variability in the data into two components: between-group variability and within-group variability:\n",
    "\n",
    "- **Between-group variability**: This variability refers to the differences between the group means. If this variability is considerably larger than the within-group variability, it could be an indication that at least one of the group means is different.\n",
    "- **Within-group variability**: This variability refers to the dispersion of the data within each group. If all groups have similar variability, then any noticeable difference in group means could be considered significant.\n",
    "\n",
    "Hypotheses in ANOVA typically include:\n",
    "\n",
    "- **Null hypothesis** ($H₀$): The means of all groups are equal.\n",
    "- **Alternative hypothesis** ($H₁$): At least one of the group means is different.\n",
    "\n",
    "If the ANOVA test result is significant (e.g., a p-value less than a threshold such as 0.05), this suggests that at least one group mean is different."
   ]
  },
  {
   "cell_type": "markdown",
   "id": "fc5f3721",
   "metadata": {},
   "source": [
    "## Exercise 2\n",
    "\n",
    "A farmer decides to test three different types of fertilizers to determine if one is superior in terms of corn production. The farmer plants corn on 15 identical plots and uses all three fertilizers (5 plots for each type). At the end of the season, he measures the corn yield (in kg) of each plot, with the following result:\n",
    "\n",
    "| Fertilizer 1 | Fertilizer 2 | Fertilizer 3 |\n",
    "|:-------------|:-------------|:-------------|\n",
    "| 20 | 22 | 24 |\n",
    "| 21 | 21 | 23 |\n",
    "| 20 | 23 | 22 |\n",
    "| 19 | 22 | 23 |\n",
    "| 20 | 21 | 24 |\n",
    "\n",
    "With this data, he seeks to answer the following question: Is there a significant difference in average corn yield between the three types of fertilizers?\n",
    "\n",
    "To help you, follow the points below:\n",
    "\n",
    "- State the hypothesis: null and alternative hypothesis.\n",
    "- Perform the ANOVA test.\n",
    "- Analyze the conclusions.\n",
    "- If one fertilizer is better than another, how can we know it?"
   ]
  },
  {
   "cell_type": "code",
   "execution_count": 8,
   "id": "eecad0ca",
   "metadata": {},
   "outputs": [
    {
     "name": "stdout",
     "output_type": "stream",
     "text": [
      "20.315789473684188\n",
      "0.00014047824793190475\n",
      "Since the p_value is smaller than alpha = 0.05, there is a significante difference in average corn yelds between at least one of the fertilixzers \n",
      "     Multiple Comparison of Means - Tukey HSD, FWER=0.05      \n",
      "==============================================================\n",
      "   group1       group2    meandiff p-adj  lower  upper  reject\n",
      "--------------------------------------------------------------\n",
      "Fertilizer 1 Fertilizer 2      1.8 0.0099 0.4572 3.1428   True\n",
      "Fertilizer 1 Fertilizer 3      3.2 0.0001 1.8572 4.5428   True\n",
      "Fertilizer 2 Fertilizer 3      1.4 0.0409 0.0572 2.7428   True\n",
      "--------------------------------------------------------------\n"
     ]
    }
   ],
   "source": [
    "import numpy as np\n",
    "from scipy import stats\n",
    "import pandas as pd\n",
    "from statsmodels.stats.multicomp import pairwise_tukeyhsd\n",
    "\n",
    "\n",
    "fertilizer_1 = [20, 21,20, 19, 20]\n",
    "fertilizer_2 = [22, 21, 23, 22,21]\n",
    "fertilizer_3 = [24, 23, 22, 23, 24]\n",
    "\n",
    "mean_f1 = np.mean(fertilizer_1)\n",
    "mean_f2 = np.mean(fertilizer_2)\n",
    "mean_f3 = np.mean(fertilizer_3)\n",
    "\n",
    "std_f1 = np.std(fertilizer_1)\n",
    "std_f2 = np.std(fertilizer_2)\n",
    "std_f3 = np.std(fertilizer_3)\n",
    "\n",
    "\n",
    "f_statistics, p_value = stats.f_oneway(fertilizer_1, fertilizer_2, fertilizer_3)\n",
    "print(f_statistics)\n",
    "print(p_value)\n",
    "print('Since the p_value is smaller than alpha = 0.05, there is a significante difference in average corn yelds between at least one of the fertilixzers ')\n",
    "\n",
    "data = {\n",
    "    'yield': fertilizer_1 + fertilizer_2 + fertilizer_3,\n",
    "    'fertilizer' : ['Fertilizer 1']* len(fertilizer_1) + ['Fertilizer 2']*len(fertilizer_2) + ['Fertilizer 3']*len(fertilizer_3)\n",
    "}\n",
    "\n",
    "df = pd.DataFrame(data)\n",
    "tukey_results = pairwise_tukeyhsd(endog=df['yield'], groups=df['fertilizer'], alpha=0.05)\n",
    "print(tukey_results)"
   ]
  }
 ],
 "metadata": {
  "kernelspec": {
   "display_name": "Python 3",
   "language": "python",
   "name": "python3"
  },
  "language_info": {
   "codemirror_mode": {
    "name": "ipython",
    "version": 3
   },
   "file_extension": ".py",
   "mimetype": "text/x-python",
   "name": "python",
   "nbconvert_exporter": "python",
   "pygments_lexer": "ipython3",
   "version": "3.11.4"
  }
 },
 "nbformat": 4,
 "nbformat_minor": 5
}
